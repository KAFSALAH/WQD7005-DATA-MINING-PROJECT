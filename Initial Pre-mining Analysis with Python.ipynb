{
 "cells": [
  {
   "cell_type": "markdown",
   "id": "d993039f",
   "metadata": {},
   "source": [
    "# Initial Pre-mining Analysis with Python"
   ]
  },
  {
   "cell_type": "code",
   "execution_count": 1,
   "id": "3eb36c7d",
   "metadata": {},
   "outputs": [],
   "source": [
    "# Import necessary libraries\n",
    "import pandas as pd              # For data frame manipulation\n",
    "import matplotlib.pyplot as plt  # For plotting 1 \n",
    "import seaborn as sns            # For plotting 2\n",
    "df = pd.read_csv('/Users/salahkaf/Sales_Mining.csv')"
   ]
  },
  {
   "cell_type": "markdown",
   "id": "56d318e2",
   "metadata": {},
   "source": [
    "# 1 - General Information About the Dataset"
   ]
  },
  {
   "cell_type": "code",
   "execution_count": 2,
   "id": "c60028c2",
   "metadata": {},
   "outputs": [
    {
     "name": "stdout",
     "output_type": "stream",
     "text": [
      "——————————————————————————\n",
      "fisrt three rows\n"
     ]
    },
    {
     "data": {
      "text/html": [
       "<div>\n",
       "<style scoped>\n",
       "    .dataframe tbody tr th:only-of-type {\n",
       "        vertical-align: middle;\n",
       "    }\n",
       "\n",
       "    .dataframe tbody tr th {\n",
       "        vertical-align: top;\n",
       "    }\n",
       "\n",
       "    .dataframe thead th {\n",
       "        text-align: right;\n",
       "    }\n",
       "</style>\n",
       "<table border=\"1\" class=\"dataframe\">\n",
       "  <thead>\n",
       "    <tr style=\"text-align: right;\">\n",
       "      <th></th>\n",
       "      <th>Date</th>\n",
       "      <th>Day</th>\n",
       "      <th>Month</th>\n",
       "      <th>Year</th>\n",
       "      <th>Customer_Age</th>\n",
       "      <th>Age_Group</th>\n",
       "      <th>Customer_Gender</th>\n",
       "      <th>Country</th>\n",
       "      <th>State</th>\n",
       "      <th>Product_Category</th>\n",
       "      <th>Sub_Category</th>\n",
       "      <th>Product</th>\n",
       "      <th>Order_Quantity</th>\n",
       "      <th>Unit_Cost</th>\n",
       "      <th>Unit_Price</th>\n",
       "      <th>Profit</th>\n",
       "      <th>Cost</th>\n",
       "      <th>Revenue</th>\n",
       "    </tr>\n",
       "  </thead>\n",
       "  <tbody>\n",
       "    <tr>\n",
       "      <th>0</th>\n",
       "      <td>2013-11-26</td>\n",
       "      <td>26</td>\n",
       "      <td>November</td>\n",
       "      <td>2013</td>\n",
       "      <td>19.0</td>\n",
       "      <td>Youth (&lt;25)</td>\n",
       "      <td>M</td>\n",
       "      <td>Canada</td>\n",
       "      <td>British Columbia</td>\n",
       "      <td>Accessories</td>\n",
       "      <td>Bike Racks</td>\n",
       "      <td>Hitch Rack - 4-Bike</td>\n",
       "      <td>8</td>\n",
       "      <td>45</td>\n",
       "      <td>120</td>\n",
       "      <td>590</td>\n",
       "      <td>360</td>\n",
       "      <td>950</td>\n",
       "    </tr>\n",
       "    <tr>\n",
       "      <th>1</th>\n",
       "      <td>2015-11-26</td>\n",
       "      <td>26</td>\n",
       "      <td>November</td>\n",
       "      <td>2015</td>\n",
       "      <td>19.0</td>\n",
       "      <td>Youth (&lt;25)</td>\n",
       "      <td>M</td>\n",
       "      <td>Canada</td>\n",
       "      <td>British Columbia</td>\n",
       "      <td>Accessories</td>\n",
       "      <td>Bike Racks</td>\n",
       "      <td>Hitch Rack - 4-Bike</td>\n",
       "      <td>8</td>\n",
       "      <td>45</td>\n",
       "      <td>120</td>\n",
       "      <td>590</td>\n",
       "      <td>360</td>\n",
       "      <td>950</td>\n",
       "    </tr>\n",
       "    <tr>\n",
       "      <th>2</th>\n",
       "      <td>2014-03-23</td>\n",
       "      <td>23</td>\n",
       "      <td>March</td>\n",
       "      <td>2014</td>\n",
       "      <td>49.0</td>\n",
       "      <td>Adults (35-64)</td>\n",
       "      <td>M</td>\n",
       "      <td>Australia</td>\n",
       "      <td>New South Wales</td>\n",
       "      <td>Accessories</td>\n",
       "      <td>Bike Racks</td>\n",
       "      <td>Hitch Rack - 4-Bike</td>\n",
       "      <td>23</td>\n",
       "      <td>45</td>\n",
       "      <td>120</td>\n",
       "      <td>1366</td>\n",
       "      <td>1035</td>\n",
       "      <td>2401</td>\n",
       "    </tr>\n",
       "  </tbody>\n",
       "</table>\n",
       "</div>"
      ],
      "text/plain": [
       "         Date  Day     Month  Year  Customer_Age       Age_Group  \\\n",
       "0  2013-11-26   26  November  2013          19.0     Youth (<25)   \n",
       "1  2015-11-26   26  November  2015          19.0     Youth (<25)   \n",
       "2  2014-03-23   23     March  2014          49.0  Adults (35-64)   \n",
       "\n",
       "  Customer_Gender    Country             State Product_Category Sub_Category  \\\n",
       "0               M     Canada  British Columbia      Accessories   Bike Racks   \n",
       "1               M     Canada  British Columbia      Accessories   Bike Racks   \n",
       "2               M  Australia   New South Wales      Accessories   Bike Racks   \n",
       "\n",
       "               Product  Order_Quantity  Unit_Cost  Unit_Price  Profit  Cost  \\\n",
       "0  Hitch Rack - 4-Bike               8         45         120     590   360   \n",
       "1  Hitch Rack - 4-Bike               8         45         120     590   360   \n",
       "2  Hitch Rack - 4-Bike              23         45         120    1366  1035   \n",
       "\n",
       "   Revenue  \n",
       "0      950  \n",
       "1      950  \n",
       "2     2401  "
      ]
     },
     "metadata": {},
     "output_type": "display_data"
    },
    {
     "name": "stdout",
     "output_type": "stream",
     "text": [
      "——————————————————————————\n",
      "last three rows\n"
     ]
    },
    {
     "data": {
      "text/html": [
       "<div>\n",
       "<style scoped>\n",
       "    .dataframe tbody tr th:only-of-type {\n",
       "        vertical-align: middle;\n",
       "    }\n",
       "\n",
       "    .dataframe tbody tr th {\n",
       "        vertical-align: top;\n",
       "    }\n",
       "\n",
       "    .dataframe thead th {\n",
       "        text-align: right;\n",
       "    }\n",
       "</style>\n",
       "<table border=\"1\" class=\"dataframe\">\n",
       "  <thead>\n",
       "    <tr style=\"text-align: right;\">\n",
       "      <th></th>\n",
       "      <th>Date</th>\n",
       "      <th>Day</th>\n",
       "      <th>Month</th>\n",
       "      <th>Year</th>\n",
       "      <th>Customer_Age</th>\n",
       "      <th>Age_Group</th>\n",
       "      <th>Customer_Gender</th>\n",
       "      <th>Country</th>\n",
       "      <th>State</th>\n",
       "      <th>Product_Category</th>\n",
       "      <th>Sub_Category</th>\n",
       "      <th>Product</th>\n",
       "      <th>Order_Quantity</th>\n",
       "      <th>Unit_Cost</th>\n",
       "      <th>Unit_Price</th>\n",
       "      <th>Profit</th>\n",
       "      <th>Cost</th>\n",
       "      <th>Revenue</th>\n",
       "    </tr>\n",
       "  </thead>\n",
       "  <tbody>\n",
       "    <tr>\n",
       "      <th>113033</th>\n",
       "      <td>2016-04-02</td>\n",
       "      <td>2</td>\n",
       "      <td>April</td>\n",
       "      <td>2016</td>\n",
       "      <td>18.0</td>\n",
       "      <td>Youth (&lt;25)</td>\n",
       "      <td>M</td>\n",
       "      <td>Australia</td>\n",
       "      <td>Queensland</td>\n",
       "      <td>Clothing</td>\n",
       "      <td>Vests</td>\n",
       "      <td>Classic Vest, M</td>\n",
       "      <td>22</td>\n",
       "      <td>24</td>\n",
       "      <td>64</td>\n",
       "      <td>655</td>\n",
       "      <td>528</td>\n",
       "      <td>1183</td>\n",
       "    </tr>\n",
       "    <tr>\n",
       "      <th>113034</th>\n",
       "      <td>2014-03-04</td>\n",
       "      <td>4</td>\n",
       "      <td>March</td>\n",
       "      <td>2014</td>\n",
       "      <td>37.0</td>\n",
       "      <td>Adults (35-64)</td>\n",
       "      <td>F</td>\n",
       "      <td>France</td>\n",
       "      <td>Seine (Paris)</td>\n",
       "      <td>Clothing</td>\n",
       "      <td>Vests</td>\n",
       "      <td>Classic Vest, L</td>\n",
       "      <td>24</td>\n",
       "      <td>24</td>\n",
       "      <td>64</td>\n",
       "      <td>684</td>\n",
       "      <td>576</td>\n",
       "      <td>1260</td>\n",
       "    </tr>\n",
       "    <tr>\n",
       "      <th>113035</th>\n",
       "      <td>2016-03-04</td>\n",
       "      <td>4</td>\n",
       "      <td>March</td>\n",
       "      <td>2016</td>\n",
       "      <td>37.0</td>\n",
       "      <td>Adults (35-64)</td>\n",
       "      <td>F</td>\n",
       "      <td>France</td>\n",
       "      <td>Seine (Paris)</td>\n",
       "      <td>Clothing</td>\n",
       "      <td>Vests</td>\n",
       "      <td>Classic Vest, L</td>\n",
       "      <td>23</td>\n",
       "      <td>24</td>\n",
       "      <td>64</td>\n",
       "      <td>655</td>\n",
       "      <td>552</td>\n",
       "      <td>1207</td>\n",
       "    </tr>\n",
       "  </tbody>\n",
       "</table>\n",
       "</div>"
      ],
      "text/plain": [
       "              Date  Day  Month  Year  Customer_Age       Age_Group  \\\n",
       "113033  2016-04-02    2  April  2016          18.0     Youth (<25)   \n",
       "113034  2014-03-04    4  March  2014          37.0  Adults (35-64)   \n",
       "113035  2016-03-04    4  March  2016          37.0  Adults (35-64)   \n",
       "\n",
       "       Customer_Gender    Country          State Product_Category  \\\n",
       "113033               M  Australia     Queensland         Clothing   \n",
       "113034               F     France  Seine (Paris)         Clothing   \n",
       "113035               F     France  Seine (Paris)         Clothing   \n",
       "\n",
       "       Sub_Category          Product  Order_Quantity  Unit_Cost  Unit_Price  \\\n",
       "113033        Vests  Classic Vest, M              22         24          64   \n",
       "113034        Vests  Classic Vest, L              24         24          64   \n",
       "113035        Vests  Classic Vest, L              23         24          64   \n",
       "\n",
       "        Profit  Cost  Revenue  \n",
       "113033     655   528     1183  \n",
       "113034     684   576     1260  \n",
       "113035     655   552     1207  "
      ]
     },
     "metadata": {},
     "output_type": "display_data"
    },
    {
     "name": "stdout",
     "output_type": "stream",
     "text": [
      "——————————————————————————\n"
     ]
    }
   ],
   "source": [
    "print('——————————————————————————')\n",
    "print('fisrt three rows')\n",
    "display(df.head(3))\n",
    "print('——————————————————————————')\n",
    "print('last three rows')\n",
    "display(df.tail(3))\n",
    "print('——————————————————————————')"
   ]
  },
  {
   "cell_type": "code",
   "execution_count": 3,
   "id": "270f9b92",
   "metadata": {},
   "outputs": [
    {
     "name": "stdout",
     "output_type": "stream",
     "text": [
      "number of rows and columns\n"
     ]
    },
    {
     "data": {
      "text/plain": [
       "(113036, 18)"
      ]
     },
     "metadata": {},
     "output_type": "display_data"
    },
    {
     "name": "stdout",
     "output_type": "stream",
     "text": [
      "——————————————————————————\n",
      "data distribution\n"
     ]
    },
    {
     "data": {
      "text/html": [
       "<div>\n",
       "<style scoped>\n",
       "    .dataframe tbody tr th:only-of-type {\n",
       "        vertical-align: middle;\n",
       "    }\n",
       "\n",
       "    .dataframe tbody tr th {\n",
       "        vertical-align: top;\n",
       "    }\n",
       "\n",
       "    .dataframe thead th {\n",
       "        text-align: right;\n",
       "    }\n",
       "</style>\n",
       "<table border=\"1\" class=\"dataframe\">\n",
       "  <thead>\n",
       "    <tr style=\"text-align: right;\">\n",
       "      <th></th>\n",
       "      <th>Day</th>\n",
       "      <th>Year</th>\n",
       "      <th>Customer_Age</th>\n",
       "      <th>Order_Quantity</th>\n",
       "      <th>Unit_Cost</th>\n",
       "      <th>Unit_Price</th>\n",
       "      <th>Profit</th>\n",
       "      <th>Cost</th>\n",
       "      <th>Revenue</th>\n",
       "    </tr>\n",
       "  </thead>\n",
       "  <tbody>\n",
       "    <tr>\n",
       "      <th>count</th>\n",
       "      <td>113036.000000</td>\n",
       "      <td>113036.000000</td>\n",
       "      <td>112488.000000</td>\n",
       "      <td>113036.000000</td>\n",
       "      <td>113036.000000</td>\n",
       "      <td>113036.000000</td>\n",
       "      <td>113036.000000</td>\n",
       "      <td>113036.000000</td>\n",
       "      <td>113036.000000</td>\n",
       "    </tr>\n",
       "    <tr>\n",
       "      <th>mean</th>\n",
       "      <td>15.665753</td>\n",
       "      <td>2014.401739</td>\n",
       "      <td>35.914400</td>\n",
       "      <td>11.901660</td>\n",
       "      <td>267.296366</td>\n",
       "      <td>452.938427</td>\n",
       "      <td>285.051665</td>\n",
       "      <td>469.318695</td>\n",
       "      <td>754.370360</td>\n",
       "    </tr>\n",
       "    <tr>\n",
       "      <th>std</th>\n",
       "      <td>8.781567</td>\n",
       "      <td>1.272510</td>\n",
       "      <td>11.020651</td>\n",
       "      <td>9.561857</td>\n",
       "      <td>549.835483</td>\n",
       "      <td>922.071219</td>\n",
       "      <td>453.887443</td>\n",
       "      <td>884.866118</td>\n",
       "      <td>1309.094674</td>\n",
       "    </tr>\n",
       "    <tr>\n",
       "      <th>min</th>\n",
       "      <td>1.000000</td>\n",
       "      <td>2011.000000</td>\n",
       "      <td>17.000000</td>\n",
       "      <td>1.000000</td>\n",
       "      <td>1.000000</td>\n",
       "      <td>2.000000</td>\n",
       "      <td>-30.000000</td>\n",
       "      <td>1.000000</td>\n",
       "      <td>2.000000</td>\n",
       "    </tr>\n",
       "    <tr>\n",
       "      <th>25%</th>\n",
       "      <td>8.000000</td>\n",
       "      <td>2013.000000</td>\n",
       "      <td>28.000000</td>\n",
       "      <td>2.000000</td>\n",
       "      <td>2.000000</td>\n",
       "      <td>5.000000</td>\n",
       "      <td>29.000000</td>\n",
       "      <td>28.000000</td>\n",
       "      <td>63.000000</td>\n",
       "    </tr>\n",
       "    <tr>\n",
       "      <th>50%</th>\n",
       "      <td>16.000000</td>\n",
       "      <td>2014.000000</td>\n",
       "      <td>35.000000</td>\n",
       "      <td>10.000000</td>\n",
       "      <td>9.000000</td>\n",
       "      <td>24.000000</td>\n",
       "      <td>101.000000</td>\n",
       "      <td>108.000000</td>\n",
       "      <td>223.000000</td>\n",
       "    </tr>\n",
       "    <tr>\n",
       "      <th>75%</th>\n",
       "      <td>23.000000</td>\n",
       "      <td>2016.000000</td>\n",
       "      <td>43.000000</td>\n",
       "      <td>20.000000</td>\n",
       "      <td>42.000000</td>\n",
       "      <td>70.000000</td>\n",
       "      <td>358.000000</td>\n",
       "      <td>432.000000</td>\n",
       "      <td>800.000000</td>\n",
       "    </tr>\n",
       "    <tr>\n",
       "      <th>max</th>\n",
       "      <td>31.000000</td>\n",
       "      <td>2016.000000</td>\n",
       "      <td>87.000000</td>\n",
       "      <td>32.000000</td>\n",
       "      <td>2171.000000</td>\n",
       "      <td>3578.000000</td>\n",
       "      <td>15096.000000</td>\n",
       "      <td>42978.000000</td>\n",
       "      <td>58074.000000</td>\n",
       "    </tr>\n",
       "  </tbody>\n",
       "</table>\n",
       "</div>"
      ],
      "text/plain": [
       "                 Day           Year   Customer_Age  Order_Quantity  \\\n",
       "count  113036.000000  113036.000000  112488.000000   113036.000000   \n",
       "mean       15.665753    2014.401739      35.914400       11.901660   \n",
       "std         8.781567       1.272510      11.020651        9.561857   \n",
       "min         1.000000    2011.000000      17.000000        1.000000   \n",
       "25%         8.000000    2013.000000      28.000000        2.000000   \n",
       "50%        16.000000    2014.000000      35.000000       10.000000   \n",
       "75%        23.000000    2016.000000      43.000000       20.000000   \n",
       "max        31.000000    2016.000000      87.000000       32.000000   \n",
       "\n",
       "           Unit_Cost     Unit_Price         Profit           Cost  \\\n",
       "count  113036.000000  113036.000000  113036.000000  113036.000000   \n",
       "mean      267.296366     452.938427     285.051665     469.318695   \n",
       "std       549.835483     922.071219     453.887443     884.866118   \n",
       "min         1.000000       2.000000     -30.000000       1.000000   \n",
       "25%         2.000000       5.000000      29.000000      28.000000   \n",
       "50%         9.000000      24.000000     101.000000     108.000000   \n",
       "75%        42.000000      70.000000     358.000000     432.000000   \n",
       "max      2171.000000    3578.000000   15096.000000   42978.000000   \n",
       "\n",
       "             Revenue  \n",
       "count  113036.000000  \n",
       "mean      754.370360  \n",
       "std      1309.094674  \n",
       "min         2.000000  \n",
       "25%        63.000000  \n",
       "50%       223.000000  \n",
       "75%       800.000000  \n",
       "max     58074.000000  "
      ]
     },
     "metadata": {},
     "output_type": "display_data"
    }
   ],
   "source": [
    "print('number of rows and columns')\n",
    "display(df.shape)\n",
    "print('——————————————————————————')\n",
    "print('data distribution')\n",
    "display(df.describe())"
   ]
  },
  {
   "cell_type": "code",
   "execution_count": 4,
   "id": "e3d0b43a",
   "metadata": {},
   "outputs": [
    {
     "data": {
      "text/plain": [
       "Date                  0\n",
       "Day                   0\n",
       "Month                 0\n",
       "Year                  0\n",
       "Customer_Age        548\n",
       "Age_Group           548\n",
       "Customer_Gender       0\n",
       "Country               0\n",
       "State                 0\n",
       "Product_Category      0\n",
       "Sub_Category          0\n",
       "Product               0\n",
       "Order_Quantity        0\n",
       "Unit_Cost             0\n",
       "Unit_Price            0\n",
       "Profit                0\n",
       "Cost                  0\n",
       "Revenue               0\n",
       "dtype: int64"
      ]
     },
     "execution_count": 4,
     "metadata": {},
     "output_type": "execute_result"
    }
   ],
   "source": [
    "# Checking for missing values\n",
    "df.isnull().sum()"
   ]
  },
  {
   "cell_type": "code",
   "execution_count": 5,
   "id": "373b3d03",
   "metadata": {},
   "outputs": [],
   "source": [
    "## As some customers decided to not share their age, we will replace their age with the median"
   ]
  },
  {
   "cell_type": "code",
   "execution_count": 6,
   "id": "a2558fd0",
   "metadata": {},
   "outputs": [
    {
     "name": "stdout",
     "output_type": "stream",
     "text": [
      "Customers Age Median is\n"
     ]
    },
    {
     "data": {
      "text/plain": [
       "35.0"
      ]
     },
     "metadata": {},
     "output_type": "display_data"
    }
   ],
   "source": [
    "print('Customers Age Median is')\n",
    "display(df.Customer_Age.median())"
   ]
  },
  {
   "cell_type": "code",
   "execution_count": 7,
   "id": "50cc5a29",
   "metadata": {
    "scrolled": true
   },
   "outputs": [],
   "source": [
    "df.Customer_Age.fillna(df.Customer_Age.median(), inplace = True)\n",
    "df.Age_Group.fillna('Adults (35-64)',inplace = True)"
   ]
  },
  {
   "cell_type": "code",
   "execution_count": 8,
   "id": "79bef75a",
   "metadata": {},
   "outputs": [
    {
     "name": "stdout",
     "output_type": "stream",
     "text": [
      "Checking for missing values again\n"
     ]
    },
    {
     "data": {
      "text/plain": [
       "Date                0\n",
       "Day                 0\n",
       "Month               0\n",
       "Year                0\n",
       "Customer_Age        0\n",
       "Age_Group           0\n",
       "Customer_Gender     0\n",
       "Country             0\n",
       "State               0\n",
       "Product_Category    0\n",
       "Sub_Category        0\n",
       "Product             0\n",
       "Order_Quantity      0\n",
       "Unit_Cost           0\n",
       "Unit_Price          0\n",
       "Profit              0\n",
       "Cost                0\n",
       "Revenue             0\n",
       "dtype: int64"
      ]
     },
     "execution_count": 8,
     "metadata": {},
     "output_type": "execute_result"
    }
   ],
   "source": [
    "print('Checking for missing values again')\n",
    "df.isna().sum()"
   ]
  },
  {
   "cell_type": "markdown",
   "id": "083e8ce3",
   "metadata": {},
   "source": [
    "# 2 -  Unique Elements Frequency in Object Columns"
   ]
  },
  {
   "cell_type": "code",
   "execution_count": 9,
   "id": "4653cf47",
   "metadata": {},
   "outputs": [
    {
     "name": "stdout",
     "output_type": "stream",
     "text": [
      "data type\n",
      "<class 'pandas.core.frame.DataFrame'>\n",
      "RangeIndex: 113036 entries, 0 to 113035\n",
      "Data columns (total 18 columns):\n",
      " #   Column            Non-Null Count   Dtype  \n",
      "---  ------            --------------   -----  \n",
      " 0   Date              113036 non-null  object \n",
      " 1   Day               113036 non-null  int64  \n",
      " 2   Month             113036 non-null  object \n",
      " 3   Year              113036 non-null  int64  \n",
      " 4   Customer_Age      113036 non-null  float64\n",
      " 5   Age_Group         113036 non-null  object \n",
      " 6   Customer_Gender   113036 non-null  object \n",
      " 7   Country           113036 non-null  object \n",
      " 8   State             113036 non-null  object \n",
      " 9   Product_Category  113036 non-null  object \n",
      " 10  Sub_Category      113036 non-null  object \n",
      " 11  Product           113036 non-null  object \n",
      " 12  Order_Quantity    113036 non-null  int64  \n",
      " 13  Unit_Cost         113036 non-null  int64  \n",
      " 14  Unit_Price        113036 non-null  int64  \n",
      " 15  Profit            113036 non-null  int64  \n",
      " 16  Cost              113036 non-null  int64  \n",
      " 17  Revenue           113036 non-null  int64  \n",
      "dtypes: float64(1), int64(8), object(9)\n",
      "memory usage: 15.5+ MB\n"
     ]
    },
    {
     "data": {
      "text/plain": [
       "None"
      ]
     },
     "metadata": {},
     "output_type": "display_data"
    }
   ],
   "source": [
    "# Checking data types\n",
    "print('data type')\n",
    "display(df.info())"
   ]
  },
  {
   "cell_type": "markdown",
   "id": "50590220",
   "metadata": {},
   "source": [
    "### A - Product Categories"
   ]
  },
  {
   "cell_type": "code",
   "execution_count": 10,
   "id": "e8e3d148",
   "metadata": {
    "scrolled": false
   },
   "outputs": [
    {
     "data": {
      "image/png": "[encoded data removed]",
      "text/plain": [
       "<Figure size 864x432 with 1 Axes>"
      ]
     },
     "metadata": {
      "needs_background": "light"
     },
     "output_type": "display_data"
    }
   ],
   "source": [
    "plt.figure(figsize=(12,6))\n",
    "plt.title('Product Categories Count')\n",
    "plt.xlabel('Category')\n",
    "plt.ylabel('Count')\n",
    "df.Product_Category.value_counts().plot(kind = 'bar', color ='darkred');"
   ]
  },
  {
   "cell_type": "code",
   "execution_count": 11,
   "id": "8278d271",
   "metadata": {},
   "outputs": [
    {
     "data": {
      "text/plain": [
       "Accessories    70120\n",
       "Bikes          25982\n",
       "Clothing       16934\n",
       "Name: Product_Category, dtype: int64"
      ]
     },
     "execution_count": 11,
     "metadata": {},
     "output_type": "execute_result"
    }
   ],
   "source": [
    "df.Product_Category.value_counts()"
   ]
  },
  {
   "cell_type": "markdown",
   "id": "c6e81332",
   "metadata": {},
   "source": [
    "## B - Gender "
   ]
  },
  {
   "cell_type": "code",
   "execution_count": 12,
   "id": "beea3bdc",
   "metadata": {
    "scrolled": true
   },
   "outputs": [
    {
     "data": {
      "image/png": "[encoded data removed]",
      "text/plain": [
       "<Figure size 864x432 with 1 Axes>"
      ]
     },
     "metadata": {
      "needs_background": "light"
     },
     "output_type": "display_data"
    }
   ],
   "source": [
    "plt.figure(figsize=(12,6))\n",
    "plt.title('Gender Count')\n",
    "plt.xlabel('Gender')\n",
    "plt.ylabel('Count')\n",
    "df.Customer_Gender.value_counts().plot(kind = 'bar', color = 'g');"
   ]
  },
  {
   "cell_type": "code",
   "execution_count": 13,
   "id": "5a9f72fa",
   "metadata": {},
   "outputs": [
    {
     "data": {
      "text/plain": [
       "M    58312\n",
       "F    54724\n",
       "Name: Customer_Gender, dtype: int64"
      ]
     },
     "metadata": {},
     "output_type": "display_data"
    }
   ],
   "source": [
    "display(df.Customer_Gender.value_counts())"
   ]
  },
  {
   "cell_type": "markdown",
   "id": "a8f8ee7d",
   "metadata": {},
   "source": [
    "## C - Country"
   ]
  },
  {
   "cell_type": "code",
   "execution_count": 14,
   "id": "fd2f55c5",
   "metadata": {
    "scrolled": true
   },
   "outputs": [
    {
     "data": {
      "image/png": "[encoded data removed]",
      "text/plain": [
       "<Figure size 864x432 with 1 Axes>"
      ]
     },
     "metadata": {
      "needs_background": "light"
     },
     "output_type": "display_data"
    }
   ],
   "source": [
    "plt.figure(figsize=(12,6))\n",
    "plt.title('Country Count')\n",
    "plt.xlabel('Country')\n",
    "plt.ylabel('Count')\n",
    "df.Country.value_counts().plot(kind = 'bar', color = 'darkblue');"
   ]
  },
  {
   "cell_type": "code",
   "execution_count": 15,
   "id": "af31f9ab",
   "metadata": {},
   "outputs": [
    {
     "data": {
      "text/plain": [
       "United States     39206\n",
       "Australia         23936\n",
       "Canada            14178\n",
       "United Kingdom    13620\n",
       "Germany           11098\n",
       "France            10998\n",
       "Name: Country, dtype: int64"
      ]
     },
     "metadata": {},
     "output_type": "display_data"
    }
   ],
   "source": [
    "display(df.Country.value_counts())"
   ]
  },
  {
   "cell_type": "markdown",
   "id": "a014dd4b",
   "metadata": {},
   "source": [
    "## D - State"
   ]
  },
  {
   "cell_type": "code",
   "execution_count": 16,
   "id": "d6a5211d",
   "metadata": {},
   "outputs": [
    {
     "data": {
      "image/png": "[encoded data removed]",
      "text/plain": [
       "<Figure size 864x432 with 1 Axes>"
      ]
     },
     "metadata": {
      "needs_background": "light"
     },
     "output_type": "display_data"
    }
   ],
   "source": [
    "plt.figure(figsize=(12,6))\n",
    "plt.title('Top 5 States Count')\n",
    "plt.xlabel('State')\n",
    "plt.ylabel('Count')\n",
    "df.State.value_counts().head().plot(kind = 'bar');"
   ]
  },
  {
   "cell_type": "code",
   "execution_count": 17,
   "id": "2f1c99ab",
   "metadata": {},
   "outputs": [
    {
     "data": {
      "text/plain": [
       "California             22450\n",
       "British Columbia       14116\n",
       "England                13620\n",
       "Washington             11264\n",
       "New South Wales        10412\n",
       "Victoria                6016\n",
       "Oregon                  5286\n",
       "Queensland              5220\n",
       "Saarland                2770\n",
       "Nordrhein-Westfalen     2484\n",
       "Hessen                  2384\n",
       "Seine (Paris)           2328\n",
       "Hamburg                 1836\n",
       "Seine Saint Denis       1684\n",
       "Nord                    1670\n",
       "South Australia         1564\n",
       "Bayern                  1426\n",
       "Hauts de Seine          1084\n",
       "Essonne                  994\n",
       "Yveline                  954\n",
       "Tasmania                 724\n",
       "Seine et Marne           394\n",
       "Moselle                  386\n",
       "Loiret                   382\n",
       "Val d'Oise               264\n",
       "Garonne (Haute)          208\n",
       "Brandenburg              198\n",
       "Val de Marne             158\n",
       "Charente-Maritime        148\n",
       "Somme                    134\n",
       "Loir et Cher             120\n",
       "Pas de Calais             90\n",
       "Alberta                   56\n",
       "Texas                     30\n",
       "Illinois                  28\n",
       "Ohio                      28\n",
       "New York                  20\n",
       "Florida                   14\n",
       "Utah                      10\n",
       "Kentucky                  10\n",
       "South Carolina            10\n",
       "Georgia                    8\n",
       "Wyoming                    8\n",
       "Ontario                    6\n",
       "Minnesota                  6\n",
       "Missouri                   6\n",
       "Montana                    6\n",
       "Arizona                    4\n",
       "Alabama                    4\n",
       "Mississippi                4\n",
       "North Carolina             4\n",
       "Virginia                   4\n",
       "Massachusetts              2\n",
       "Name: State, dtype: int64"
      ]
     },
     "execution_count": 17,
     "metadata": {},
     "output_type": "execute_result"
    }
   ],
   "source": [
    "df.State.value_counts()"
   ]
  },
  {
   "cell_type": "markdown",
   "id": "1bd84898",
   "metadata": {},
   "source": [
    "## E - Sub Category"
   ]
  },
  {
   "cell_type": "code",
   "execution_count": 18,
   "id": "f6723114",
   "metadata": {},
   "outputs": [
    {
     "data": {
      "image/png": "[encoded data removed]",
      "text/plain": [
       "<Figure size 864x432 with 1 Axes>"
      ]
     },
     "metadata": {
      "needs_background": "light"
     },
     "output_type": "display_data"
    }
   ],
   "source": [
    "plt.figure(figsize=(12,6))\n",
    "plt.title('Top 5 Sub Category Count')\n",
    "plt.xlabel('Sub Category')\n",
    "plt.ylabel('Count')\n",
    "df.Sub_Category.value_counts().head().plot(kind = 'bar', color = 'b');"
   ]
  },
  {
   "cell_type": "code",
   "execution_count": 19,
   "id": "8bb65ca1",
   "metadata": {},
   "outputs": [
    {
     "data": {
      "text/plain": [
       "Tires and Tubes      33870\n",
       "Bottles and Cages    15876\n",
       "Road Bikes           13430\n",
       "Helmets              12158\n",
       "Mountain Bikes        8854\n",
       "Jerseys               6010\n",
       "Caps                  4358\n",
       "Fenders               4032\n",
       "Touring Bikes         3698\n",
       "Gloves                2686\n",
       "Cleaners              1802\n",
       "Shorts                1794\n",
       "Hydration Packs       1334\n",
       "Socks                 1122\n",
       "Vests                  964\n",
       "Bike Racks             592\n",
       "Bike Stands            456\n",
       "Name: Sub_Category, dtype: int64"
      ]
     },
     "execution_count": 19,
     "metadata": {},
     "output_type": "execute_result"
    }
   ],
   "source": [
    "df.Sub_Category.value_counts()"
   ]
  },
  {
   "cell_type": "markdown",
   "id": "11b56c38",
   "metadata": {},
   "source": [
    "## F - Age Groups"
   ]
  },
  {
   "cell_type": "code",
   "execution_count": 20,
   "id": "c8c9a057",
   "metadata": {
    "scrolled": true
   },
   "outputs": [
    {
     "data": {
      "image/png": "[encoded data removed]",
      "text/plain": [
       "<Figure size 864x432 with 1 Axes>"
      ]
     },
     "metadata": {
      "needs_background": "light"
     },
     "output_type": "display_data"
    }
   ],
   "source": [
    "plt.figure(figsize=(12,6))\n",
    "plt.title('Age Groups Value Count')\n",
    "plt.xlabel('Age Group')\n",
    "plt.ylabel('Count')\n",
    "df.Age_Group.value_counts().plot(kind = 'bar', color = 'maroon');"
   ]
  },
  {
   "cell_type": "code",
   "execution_count": 21,
   "id": "28137b27",
   "metadata": {},
   "outputs": [
    {
     "data": {
      "text/plain": [
       "Adults (35-64)          56088\n",
       "Young Adults (25-34)    38473\n",
       "Youth (<25)             17750\n",
       "Seniors (64+)             725\n",
       "Name: Age_Group, dtype: int64"
      ]
     },
     "execution_count": 21,
     "metadata": {},
     "output_type": "execute_result"
    }
   ],
   "source": [
    "df.Age_Group.value_counts()"
   ]
  },
  {
   "cell_type": "markdown",
   "id": "30c4c095",
   "metadata": {},
   "source": [
    "## G - Products"
   ]
  },
  {
   "cell_type": "code",
   "execution_count": 22,
   "id": "e46212fd",
   "metadata": {
    "scrolled": true
   },
   "outputs": [
    {
     "data": {
      "image/png": "[encoded data removed]",
      "text/plain": [
       "<Figure size 864x432 with 1 Axes>"
      ]
     },
     "metadata": {
      "needs_background": "light"
     },
     "output_type": "display_data"
    }
   ],
   "source": [
    "plt.figure(figsize=(12,6))\n",
    "plt.title('Top 10 Products value Count')\n",
    "plt.xlabel('Product')\n",
    "plt.ylabel('Count')\n",
    "df.Product.value_counts().head(10).plot(kind = 'bar', color = 'navy');"
   ]
  },
  {
   "cell_type": "code",
   "execution_count": 23,
   "id": "d2d14a2d",
   "metadata": {
    "scrolled": true
   },
   "outputs": [
    {
     "data": {
      "text/plain": [
       "Water Bottle - 30 oz.      10794\n",
       "Patch Kit/8 Patches        10416\n",
       "Mountain Tire Tube          6816\n",
       "AWC Logo Cap                4358\n",
       "Sport-100 Helmet, Red       4220\n",
       "                           ...  \n",
       "Touring-3000 Blue, 50         58\n",
       "Mountain-100 Silver, 42       54\n",
       "Mountain-500 Silver, 48       40\n",
       "Road-650 Red, 52              32\n",
       "Mountain-500 Black, 52        22\n",
       "Name: Product, Length: 130, dtype: int64"
      ]
     },
     "metadata": {},
     "output_type": "display_data"
    }
   ],
   "source": [
    "display(df.Product.value_counts())"
   ]
  },
  {
   "cell_type": "markdown",
   "id": "c17ca478",
   "metadata": {},
   "source": [
    "## H - Most Frequent Months"
   ]
  },
  {
   "cell_type": "code",
   "execution_count": 24,
   "id": "8b968975",
   "metadata": {},
   "outputs": [
    {
     "data": {
      "image/png": "[encoded data removed]",
      "text/plain": [
       "<Figure size 864x432 with 1 Axes>"
      ]
     },
     "metadata": {
      "needs_background": "light"
     },
     "output_type": "display_data"
    }
   ],
   "source": [
    "plt.figure(figsize=(12,6))\n",
    "plt.title('Most Frequent Months')\n",
    "plt.xlabel('Month')\n",
    "plt.ylabel('Count')\n",
    "df.Month.value_counts().plot(kind = 'bar', color = 'teal');"
   ]
  },
  {
   "cell_type": "markdown",
   "id": "ef369101",
   "metadata": {},
   "source": [
    "# C - Eploratory Data Analysis"
   ]
  },
  {
   "cell_type": "code",
   "execution_count": 25,
   "id": "a8937a0f",
   "metadata": {},
   "outputs": [],
   "source": [
    "years = [2011, 2012, 2013, 2014, 2015, 2016]\n",
    "revenue = []\n",
    "for i in years:\n",
    "    revenue.append(df[df.Year==i].Revenue.sum())"
   ]
  },
  {
   "cell_type": "code",
   "execution_count": 26,
   "id": "d4888cc4",
   "metadata": {},
   "outputs": [
    {
     "data": {
      "text/plain": [
       "[8964888, 9175983, 15240037, 14152724, 20023991, 17713385]"
      ]
     },
     "execution_count": 26,
     "metadata": {},
     "output_type": "execute_result"
    }
   ],
   "source": [
    "revenue"
   ]
  },
  {
   "cell_type": "code",
   "execution_count": 32,
   "id": "de3dee9a",
   "metadata": {},
   "outputs": [
    {
     "data": {
      "image/png": "[encoded data removed]",
      "text/plain": [
       "<Figure size 1152x576 with 1 Axes>"
      ]
     },
     "metadata": {
      "needs_background": "light"
     },
     "output_type": "display_data"
    }
   ],
   "source": [
    "plt.figure(figsize=(16,8))\n",
    "plt.plot(years,revenue,  color = 'indigo')\n",
    "plt.title('Revenue Per Year')\n",
    "plt.ylabel('Revenue')\n",
    "plt.xlabel('Years')\n",
    "plt.ticklabel_format(style = 'plain');"
   ]
  },
  {
   "cell_type": "code",
   "execution_count": 33,
   "id": "e49b4370",
   "metadata": {},
   "outputs": [
    {
     "data": {
      "text/plain": [
       "(0.0, 1500.0)"
      ]
     },
     "execution_count": 33,
     "metadata": {},
     "output_type": "execute_result"
    },
    {
     "data": {
      "image/png": "[encoded data removed]",
      "text/plain": [
       "<Figure size 1008x432 with 1 Axes>"
      ]
     },
     "metadata": {
      "needs_background": "light"
     },
     "output_type": "display_data"
    }
   ],
   "source": [
    "plt.figure(figsize=(14 ,6))\n",
    "sns.histplot(x=df.Revenue)\n",
    "plt.title('Revenue Distribution')\n",
    "plt.xlim(0, 1500);"
   ]
  },
  {
   "cell_type": "code",
   "execution_count": 34,
   "id": "550dd6e2",
   "metadata": {},
   "outputs": [
    {
     "data": {
      "image/png": "[encoded data removed]",
      "text/plain": [
       "<Figure size 864x576 with 1 Axes>"
      ]
     },
     "metadata": {
      "needs_background": "light"
     },
     "output_type": "display_data"
    },
    {
     "data": {
      "image/png": "[encoded data removed]",
      "text/plain": [
       "<Figure size 860.375x360 with 2 Axes>"
      ]
     },
     "metadata": {
      "needs_background": "light"
     },
     "output_type": "display_data"
    }
   ],
   "source": [
    "plt.figure(figsize=(12, 8));\n",
    "plt.title('Revenue Per Year, Gender, and Age')\n",
    "sns.relplot(x='Year', y='Revenue', col='Customer_Gender', hue='Age_Group', data=df);"
   ]
  }
 ],
 "metadata": {
  "kernelspec": {
   "display_name": "Python 3 (ipykernel)",
   "language": "python",
   "name": "python3"
  },
  "language_info": {
   "codemirror_mode": {
    "name": "ipython",
    "version": 3
   },
   "file_extension": ".py",
   "mimetype": "text/x-python",
   "name": "python",
   "nbconvert_exporter": "python",
   "pygments_lexer": "ipython3",
   "version": "3.9.12"
  }
 },
 "nbformat": 4,
 "nbformat_minor": 5
}
