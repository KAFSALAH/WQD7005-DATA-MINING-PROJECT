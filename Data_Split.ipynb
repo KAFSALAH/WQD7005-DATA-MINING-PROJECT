{
 "cells": [
  {
   "cell_type": "markdown",
   "id": "87d26efd",
   "metadata": {},
   "source": [
    "# Randomly Split the Data Into 5 Parts "
   ]
  },
  {
   "cell_type": "code",
   "execution_count": 1,
   "id": "f6db8255",
   "metadata": {},
   "outputs": [],
   "source": [
    "import pandas as pd"
   ]
  },
  {
   "cell_type": "code",
   "execution_count": 2,
   "id": "191ee89f",
   "metadata": {},
   "outputs": [],
   "source": [
    "df = pd.read_csv('https://raw.githubusercontent.com/KAFSALAH/WQD7005-DATA-MINING-PROJECT/main/Sales_Mining.csv')"
   ]
  },
  {
   "cell_type": "code",
   "execution_count": 3,
   "id": "cc53f382",
   "metadata": {},
   "outputs": [],
   "source": [
    "salah_df = df.sample(frac = 0.20)"
   ]
  },
  {
   "cell_type": "code",
   "execution_count": 4,
   "id": "b10aed1e",
   "metadata": {},
   "outputs": [],
   "source": [
    "usman_df = df.sample(frac = 0.20)"
   ]
  },
  {
   "cell_type": "code",
   "execution_count": 5,
   "id": "50427126",
   "metadata": {},
   "outputs": [],
   "source": [
    "ahmed_df = df.sample(frac = 0.20)"
   ]
  },
  {
   "cell_type": "code",
   "execution_count": 6,
   "id": "ff8c8bdd",
   "metadata": {},
   "outputs": [],
   "source": [
    "chai_df = df.sample(frac = 0.20)"
   ]
  },
  {
   "cell_type": "code",
   "execution_count": 7,
   "id": "e3d37421",
   "metadata": {},
   "outputs": [],
   "source": [
    "sadman_df = df.sample(frac = 0.20)"
   ]
  },
  {
   "cell_type": "code",
   "execution_count": 8,
   "id": "76e25bce",
   "metadata": {},
   "outputs": [],
   "source": [
    "# Identify value counts demonstration "
   ]
  },
  {
   "cell_type": "code",
   "execution_count": 9,
   "id": "f3357be9",
   "metadata": {},
   "outputs": [
    {
     "name": "stdout",
     "output_type": "stream",
     "text": [
      "<class 'pandas.core.frame.DataFrame'>\n",
      "Int64Index: 22607 entries, 92496 to 111121\n",
      "Data columns (total 18 columns):\n",
      " #   Column            Non-Null Count  Dtype  \n",
      "---  ------            --------------  -----  \n",
      " 0   Date              22607 non-null  object \n",
      " 1   Day               22607 non-null  int64  \n",
      " 2   Month             22607 non-null  object \n",
      " 3   Year              22607 non-null  int64  \n",
      " 4   Customer_Age      22495 non-null  float64\n",
      " 5   Age_Group         22495 non-null  object \n",
      " 6   Customer_Gender   22607 non-null  object \n",
      " 7   Country           22607 non-null  object \n",
      " 8   State             22607 non-null  object \n",
      " 9   Product_Category  22607 non-null  object \n",
      " 10  Sub_Category      22607 non-null  object \n",
      " 11  Product           22607 non-null  object \n",
      " 12  Order_Quantity    22607 non-null  int64  \n",
      " 13  Unit_Cost         22607 non-null  int64  \n",
      " 14  Unit_Price        22607 non-null  int64  \n",
      " 15  Profit            22607 non-null  int64  \n",
      " 16  Cost              22607 non-null  int64  \n",
      " 17  Revenue           22607 non-null  int64  \n",
      "dtypes: float64(1), int64(8), object(9)\n",
      "memory usage: 3.3+ MB\n",
      "<class 'pandas.core.frame.DataFrame'>\n",
      "Int64Index: 22607 entries, 92496 to 111121\n",
      "Data columns (total 18 columns):\n",
      " #   Column            Non-Null Count  Dtype  \n",
      "---  ------            --------------  -----  \n",
      " 0   Date              22607 non-null  object \n",
      " 1   Day               22607 non-null  int64  \n",
      " 2   Month             22607 non-null  object \n",
      " 3   Year              22607 non-null  int64  \n",
      " 4   Customer_Age      22495 non-null  float64\n",
      " 5   Age_Group         22495 non-null  object \n",
      " 6   Customer_Gender   22607 non-null  object \n",
      " 7   Country           22607 non-null  object \n",
      " 8   State             22607 non-null  object \n",
      " 9   Product_Category  22607 non-null  object \n",
      " 10  Sub_Category      22607 non-null  object \n",
      " 11  Product           22607 non-null  object \n",
      " 12  Order_Quantity    22607 non-null  int64  \n",
      " 13  Unit_Cost         22607 non-null  int64  \n",
      " 14  Unit_Price        22607 non-null  int64  \n",
      " 15  Profit            22607 non-null  int64  \n",
      " 16  Cost              22607 non-null  int64  \n",
      " 17  Revenue           22607 non-null  int64  \n",
      "dtypes: float64(1), int64(8), object(9)\n",
      "memory usage: 3.3+ MB\n"
     ]
    }
   ],
   "source": [
    "salah_df.info()"
   ]
  },
  {
   "cell_type": "code",
   "execution_count": 10,
   "id": "ba2409ef",
   "metadata": {},
   "outputs": [
    {
     "data": {
      "text/plain": [
       "M    11632\n",
       "F    10975\n",
       "Name: Customer_Gender, dtype: int64"
      ]
     },
     "execution_count": 10,
     "metadata": {},
     "output_type": "execute_result"
    },
    {
     "data": {
      "text/plain": [
       "M    11632\n",
       "F    10975\n",
       "Name: Customer_Gender, dtype: int64"
      ]
     },
     "execution_count": 10,
     "metadata": {},
     "output_type": "execute_result"
    }
   ],
   "source": [
    "salah_df.Customer_Gender.value_counts()"
   ]
  },
  {
   "cell_type": "code",
   "execution_count": 11,
   "id": "ad8a6f79",
   "metadata": {},
   "outputs": [
    {
     "data": {
      "text/plain": [
       "Accessories    14029\n",
       "Bikes           5220\n",
       "Clothing        3358\n",
       "Name: Product_Category, dtype: int64"
      ]
     },
     "execution_count": 11,
     "metadata": {},
     "output_type": "execute_result"
    },
    {
     "data": {
      "text/plain": [
       "Accessories    14029\n",
       "Bikes           5220\n",
       "Clothing        3358\n",
       "Name: Product_Category, dtype: int64"
      ]
     },
     "execution_count": 11,
     "metadata": {},
     "output_type": "execute_result"
    }
   ],
   "source": [
    "salah_df.Product_Category.value_counts()"
   ]
  },
  {
   "cell_type": "code",
   "execution_count": 12,
   "id": "d9805ed3",
   "metadata": {},
   "outputs": [
    {
     "data": {
      "text/plain": [
       "M    11684\n",
       "F    10923\n",
       "Name: Customer_Gender, dtype: int64"
      ]
     },
     "execution_count": 12,
     "metadata": {},
     "output_type": "execute_result"
    },
    {
     "data": {
      "text/plain": [
       "M    11684\n",
       "F    10923\n",
       "Name: Customer_Gender, dtype: int64"
      ]
     },
     "execution_count": 12,
     "metadata": {},
     "output_type": "execute_result"
    }
   ],
   "source": [
    "ahmed_df.Customer_Gender.value_counts()"
   ]
  },
  {
   "cell_type": "code",
   "execution_count": 13,
   "id": "4dda4673",
   "metadata": {},
   "outputs": [
    {
     "data": {
      "text/plain": [
       "Accessories    13919\n",
       "Bikes           5234\n",
       "Clothing        3454\n",
       "Name: Product_Category, dtype: int64"
      ]
     },
     "execution_count": 13,
     "metadata": {},
     "output_type": "execute_result"
    },
    {
     "data": {
      "text/plain": [
       "Accessories    13919\n",
       "Bikes           5234\n",
       "Clothing        3454\n",
       "Name: Product_Category, dtype: int64"
      ]
     },
     "execution_count": 13,
     "metadata": {},
     "output_type": "execute_result"
    }
   ],
   "source": [
    "ahmed_df.Product_Category.value_counts()"
   ]
  },
  {
   "cell_type": "code",
   "execution_count": 14,
   "id": "a68cdc92",
   "metadata": {},
   "outputs": [],
   "source": [
    "# Exporting data sets\n",
    "salah_df.to_csv('salah_df.csv', index = False)\n",
    "usman_df.to_csv('usman_df.csv', index = False)\n",
    "ahmed_df.to_csv('ahmed_df.csv', index = False)\n",
    "chai_df.to_csv('chai_df.csv', index = False)\n",
    "sadman_df.to_csv('sadman_df.csv', index = False)\n"
   ]
  },
  {
   "cell_type": "code",
   "execution_count": 15,
   "id": "785bedee",
   "metadata": {},
   "outputs": [
    {
     "data": {
      "text/plain": [
       "Date                  0\n",
       "Day                   0\n",
       "Month                 0\n",
       "Year                  0\n",
       "Customer_Age        115\n",
       "Age_Group           115\n",
       "Customer_Gender       0\n",
       "Country               0\n",
       "State                 0\n",
       "Product_Category      0\n",
       "Sub_Category          0\n",
       "Product               0\n",
       "Order_Quantity        0\n",
       "Unit_Cost             0\n",
       "Unit_Price            0\n",
       "Profit                0\n",
       "Cost                  0\n",
       "Revenue               0\n",
       "dtype: int64"
      ]
     },
     "execution_count": 15,
     "metadata": {},
     "output_type": "execute_result"
    },
    {
     "data": {
      "text/plain": [
       "Date                  0\n",
       "Day                   0\n",
       "Month                 0\n",
       "Year                  0\n",
       "Customer_Age        115\n",
       "Age_Group           115\n",
       "Customer_Gender       0\n",
       "Country               0\n",
       "State                 0\n",
       "Product_Category      0\n",
       "Sub_Category          0\n",
       "Product               0\n",
       "Order_Quantity        0\n",
       "Unit_Cost             0\n",
       "Unit_Price            0\n",
       "Profit                0\n",
       "Cost                  0\n",
       "Revenue               0\n",
       "dtype: int64"
      ]
     },
     "execution_count": 15,
     "metadata": {},
     "output_type": "execute_result"
    }
   ],
   "source": [
    "sadman_df.isna().sum()"
   ]
  },
  {
   "cell_type": "code",
   "execution_count": 16,
   "id": "0e7fd616",
   "metadata": {},
   "outputs": [
    {
     "data": {
      "text/plain": [
       "Date                  0\n",
       "Day                   0\n",
       "Month                 0\n",
       "Year                  0\n",
       "Customer_Age        112\n",
       "Age_Group           112\n",
       "Customer_Gender       0\n",
       "Country               0\n",
       "State                 0\n",
       "Product_Category      0\n",
       "Sub_Category          0\n",
       "Product               0\n",
       "Order_Quantity        0\n",
       "Unit_Cost             0\n",
       "Unit_Price            0\n",
       "Profit                0\n",
       "Cost                  0\n",
       "Revenue               0\n",
       "dtype: int64"
      ]
     },
     "execution_count": 16,
     "metadata": {},
     "output_type": "execute_result"
    },
    {
     "data": {
      "text/plain": [
       "Date                  0\n",
       "Day                   0\n",
       "Month                 0\n",
       "Year                  0\n",
       "Customer_Age        112\n",
       "Age_Group           112\n",
       "Customer_Gender       0\n",
       "Country               0\n",
       "State                 0\n",
       "Product_Category      0\n",
       "Sub_Category          0\n",
       "Product               0\n",
       "Order_Quantity        0\n",
       "Unit_Cost             0\n",
       "Unit_Price            0\n",
       "Profit                0\n",
       "Cost                  0\n",
       "Revenue               0\n",
       "dtype: int64"
      ]
     },
     "execution_count": 16,
     "metadata": {},
     "output_type": "execute_result"
    }
   ],
   "source": [
    "salah_df.isna().sum()"
   ]
  }
 ],
 "metadata": {
  "kernelspec": {
   "display_name": "Python 3 (ipykernel)",
   "language": "python",
   "name": "python3"
  },
  "language_info": {
   "codemirror_mode": {
    "name": "ipython",
    "version": 3
   },
   "file_extension": ".py",
   "mimetype": "text/x-python",
   "name": "python",
   "nbconvert_exporter": "python",
   "pygments_lexer": "ipython3",
   "version": "3.9.12"
  }
 },
 "nbformat": 4,
 "nbformat_minor": 5
}
